{
 "cells": [
  {
   "cell_type": "code",
   "execution_count": null,
   "metadata": {},
   "outputs": [],
   "source": [
    "import retro\n",
    "import torch\n",
    "import IPython.display\n",
    "import matplotlib.pyplot as plt\n",
    "%config InlineBackend.figure_format = 'retina'\n",
    "\n",
    "def environment_make():\n",
    "    global environment\n",
    "    if globals().get('environment'):\n",
    "        environment.render(close=True)\n",
    "        environment.close()\n",
    "\n",
    "    environment = retro.make(game='SuperMarioBros-Nes')\n",
    "    \n",
    "    return environment"
   ]
  },
  {
   "cell_type": "code",
   "execution_count": null,
   "metadata": {},
   "outputs": [],
   "source": [
    "images = []\n",
    "env.reset()\n",
    "\n",
    "action = env.action_space.sample()\n",
    "\n",
    "obs, rew, done, info = env.step(action)"
   ]
  },
  {
   "cell_type": "code",
   "execution_count": null,
   "metadata": {},
   "outputs": [],
   "source": [
    "import json\n",
    "\n",
    "def frame_draw(frame):\n",
    "    height, width, colors = frame.shape\n",
    "    frame_json = json.dumps(frame.tolist())\n",
    "    \n",
    "    return IPython.display.HTML(\"\"\"\n",
    "    <canvas id=\"myCanvas\" width=\"%(width)s\" height=\"%(height)s\"></canvas>\n",
    "    <script>\n",
    "        c = document.getElementById(\"myCanvas\");\n",
    "        c.style.width = %(width)s*8/7 + 'px';\n",
    "        c.style.height = %(width)s + 'px';\n",
    "        \n",
    "        var context = c.getContext(\"2d\");\n",
    "        context.scale(2, 2);\n",
    "        \n",
    "        frame = %(frame_json)s;\n",
    "        height = frame.length;\n",
    "        width = frame[0].length;\n",
    "\n",
    "        for (var i = 0; i < width; i++) {\n",
    "            for (var j = 0; j < height; j++) {\n",
    "                context.beginPath();\n",
    "                context.rect(i, j, 4, 4);\n",
    "                context.fillStyle = 'rgb(' + frame[j][i].join(',') + ')';\n",
    "                context.fill();\n",
    "            }\n",
    "        }\n",
    "    </script>\n",
    "    \"\"\" % {'frame_json': frame_json, 'width': 2*width, 'height': 2*height})\n",
    "    \n",
    "frame_draw(observation)"
   ]
  },
  {
   "cell_type": "markdown",
   "metadata": {},
   "source": [
    "## ozx"
   ]
  },
  {
   "cell_type": "code",
   "execution_count": null,
   "metadata": {},
   "outputs": [],
   "source": [
    "240 / 16, 224 / 16"
   ]
  },
  {
   "cell_type": "code",
   "execution_count": null,
   "metadata": {},
   "outputs": [],
   "source": [
    "comps=[[0,1,3],[0,2,1],[0,2,3],[0,3,1],[0,3,2],[1,0,2],[1,0,3],[1,2,0],[1,2,3],[1,3,0],[1,3,2],[2,0,1],[2,0,3],[2,1,0],[2,1,3],[2,3,0],[2,3,1],[3,0,1],[3,0,2],[3,1,0],[3,1,2],[3,2,0],[3,2,1]]"
   ]
  },
  {
   "cell_type": "code",
   "execution_count": null,
   "metadata": {},
   "outputs": [],
   "source": [
    "environment_make()\n",
    "environment.reset()\n",
    "\n",
    "action = environment.action_space.sample()\n",
    "\n",
    "observation, rew, done, info = environment.step(action)\n",
    "\n",
    "fig, ax = plt.subplots(figsize=(8, 8))\n",
    "\n",
    "blocks = torch.tensor(observation).reshape(14, 15, 16, 16, 3).permute(0, 2, 3, 1, 4)\n",
    "print(blocks.shape)\n",
    "print(blocks[11][11].shape)\n",
    "# print(blocks[11][11])\n",
    "ax.imshow(blocks[11][11])\n"
   ]
  },
  {
   "cell_type": "code",
   "execution_count": null,
   "metadata": {},
   "outputs": [],
   "source": [
    "\n",
    "fig, ax = plt.subplots(figsize=(10, 10))\n",
    "\n",
    "ax.imshow(torch.tensor(observation).reshape(-1, 224, 240, 3).permute(3, 1, 2, 0)[0]);\n",
    "ax.axis('off');"
   ]
  },
  {
   "cell_type": "code",
   "execution_count": null,
   "metadata": {},
   "outputs": [],
   "source": [
    "filters"
   ]
  },
  {
   "cell_type": "code",
   "execution_count": null,
   "metadata": {},
   "outputs": [],
   "source": [
    "image"
   ]
  },
  {
   "cell_type": "code",
   "execution_count": null,
   "metadata": {},
   "outputs": [],
   "source": [
    "filters = torch.randn(8,3,3,3)\n",
    "inputs = torch.randn(1,3,1,2)\n",
    "F.conv2d(image.float(), weight=filters, padding=1)"
   ]
  },
  {
   "cell_type": "code",
   "execution_count": null,
   "metadata": {},
   "outputs": [],
   "source": [
    "import torch.nn.functional as F\n",
    "\n",
    "# image = torch.tensor(observation, dtype=float) #.reshape(-1, 3, 224, 240)\n",
    "# print(image.shape)\n",
    "\n",
    "t = torch.tensor(observation, dtype=float)\n",
    "r, g, b = t[:,:,0], t[:,:,1], t[:,:,2]\n",
    "image = torch.stack([r, g, b]).unsqueeze(0)\n",
    "print(\"t\", t.shape)\n",
    "\n",
    "\n",
    "t = torch.tensor(observation, dtype=float).unsqueeze(0)\n",
    "# r, g, b = t.permute(0, 3, 1, 2)\n",
    "# image = torch.stack([r, g, b]).unsqueeze(0)\n",
    "image = t.permute(0, 3, 1, 2)\n",
    "print(\"t\", t.shape)\n",
    "\n",
    "\n",
    "\n",
    "filter_ = torch.tensor([[\n",
    "    [[1, 1], [1, 1]],\n",
    "    [[1, 1], [1, 1]],\n",
    "    [[1, 1], [1, 1]]\n",
    "]], dtype=float)\n",
    "\n",
    "filter_ = filter_ / 4\n",
    "filter_[0,0] = 0\n",
    "filter_[0,1] = 0\n",
    "filter_[0,2] = 1\n",
    "print(filter_)\n",
    "print(filter_.shape)\n",
    "output = F.conv2d(input=image,\n",
    "                  weight=filter_,\n",
    "                  stride=2)\n",
    "\n",
    "print(\"output:\", output.shape)\n",
    "\n",
    "fig, ax = plt.subplots(figsize=(8, 8))\n",
    "\n",
    "ax.imshow(output.reshape(-1, 112, 120, 1)[0], cmap='gray')"
   ]
  },
  {
   "cell_type": "code",
   "execution_count": null,
   "metadata": {},
   "outputs": [],
   "source": []
  },
  {
   "cell_type": "code",
   "execution_count": null,
   "metadata": {},
   "outputs": [],
   "source": []
  },
  {
   "cell_type": "code",
   "execution_count": null,
   "metadata": {},
   "outputs": [],
   "source": [
    "224*240, 224*240/16/16/15"
   ]
  },
  {
   "cell_type": "code",
   "execution_count": null,
   "metadata": {},
   "outputs": [],
   "source": []
  },
  {
   "cell_type": "code",
   "execution_count": null,
   "metadata": {},
   "outputs": [],
   "source": [
    "torch.ones(4, 4)"
   ]
  },
  {
   "cell_type": "code",
   "execution_count": null,
   "metadata": {},
   "outputs": [],
   "source": [
    "588*16*16,224*240"
   ]
  },
  {
   "cell_type": "code",
   "execution_count": null,
   "metadata": {},
   "outputs": [],
   "source": []
  },
  {
   "cell_type": "code",
   "execution_count": null,
   "metadata": {},
   "outputs": [],
   "source": [
    "def block_partition(matrix, block_width):\n",
    "    total_width = matrix.shape[0]\n",
    "    \n",
    "    matrix = matrix.reshape(-1, block_width, total_width // block_width, block_width)\n",
    "    matrix = matrix.transpose(2, 1).reshape(-1, block_width, block_width)\n",
    "    \n",
    "    return matrix\n",
    "\n",
    "t = torch.tensor(observation)\n",
    "r, g, b = t.permute(2, 0, 1)\n",
    "t= t.permute(2, 0, 1)\n",
    "\n",
    "print(r.shape)\n",
    "\n",
    "r = block_partition(r[:224,:224], 16)\n",
    "print(r.shape)\n",
    "\n",
    "r = r[-40]\n",
    "fig, ax = plt.subplots(figsize=(8, 8))\n",
    "\n",
    "ax.imshow(r);"
   ]
  },
  {
   "cell_type": "code",
   "execution_count": null,
   "metadata": {},
   "outputs": [],
   "source": []
  },
  {
   "cell_type": "code",
   "execution_count": null,
   "metadata": {},
   "outputs": [],
   "source": [
    "\n",
    "t = torch.tensor(observation) #.unsqueeze(0)\n",
    "# r, g, b = t.permute(0, 3, 1, 2)[0]\n",
    "print(\"t\", t.shape)\n",
    "print(\"r\", r.shape)\n",
    "\n",
    "r = t\n",
    "r = r.reshape(14, 15, 16, 16, 3)\n",
    "r = r.permute(0, 1, 3, 2, 4)\n",
    "r = r[-4][-7]\n",
    "\n",
    "print(r.shape)\n",
    "\n",
    "fig, ax = plt.subplots(figsize=(8, 8))\n",
    "\n",
    "ax.imshow(r)"
   ]
  },
  {
   "cell_type": "code",
   "execution_count": null,
   "metadata": {},
   "outputs": [],
   "source": []
  },
  {
   "cell_type": "code",
   "execution_count": null,
   "metadata": {},
   "outputs": [],
   "source": []
  },
  {
   "cell_type": "code",
   "execution_count": null,
   "metadata": {},
   "outputs": [],
   "source": [
    "def block_partition(matrix, block_width):\n",
    "    matrix = matrix.reshape(-1, block_width, matrix.shape[0] // block_width, block_width, 3)\n",
    "    matrix = matrix.transpose(2, 1).reshape(-1, block_width, block_width, 3)\n",
    "    \n",
    "    return matrix\n",
    "\n",
    "t = torch.tensor(observation)\n",
    "\n",
    "print(t.shape)\n",
    "\n",
    "t = block_partition(t[:224,:224], 16)\n",
    "print(t.shape)\n",
    "\n",
    "# t = t[-40]\n",
    "r = t[-40]\n",
    "print(r.shape)\n",
    "\n",
    "fig, ax = plt.subplots(figsize=(8, 8))\n",
    "ax.imshow(r);\n",
    "\n",
    "exponent = 1\n",
    "\n",
    "# [hash(((block.float() / 255 / 16 / 16).sum()**exponent).item()) % 255 for block in t]"
   ]
  },
  {
   "cell_type": "code",
   "execution_count": null,
   "metadata": {},
   "outputs": [],
   "source": []
  },
  {
   "cell_type": "code",
   "execution_count": null,
   "metadata": {},
   "outputs": [],
   "source": []
  },
  {
   "cell_type": "code",
   "execution_count": null,
   "metadata": {},
   "outputs": [],
   "source": [
    "def block_partition(matrix, block_width):\n",
    "    matrix = matrix.reshape(-1, block_width, matrix.shape[0] // block_width, block_width, 3)\n",
    "    matrix = matrix.transpose(2, 1).reshape(-1, block_width, block_width, 3)\n",
    "    \n",
    "    return matrix\n",
    "\n",
    "t = torch.tensor(observation)\n",
    "\n",
    "print(t.shape)\n",
    "\n",
    "t = block_partition(t[:224,:224], 16)\n",
    "print(t.shape)\n",
    "\n",
    "# t = t[-40]\n",
    "r = t[-40]\n",
    "print(r.shape)\n",
    "\n",
    "fig, ax = plt.subplots(figsize=(8, 8))\n",
    "# ax.imshow(r);\n",
    "\n",
    "exponent = 1\n",
    "\n",
    "k = set([tuple(block.flatten().tolist()) for block in t])\n",
    "# k = sorted(list(k))\n",
    "blocks = [torch.tensor(block).reshape(16, 16, 3) for block in k]\n",
    "\n",
    "print(len(blocks))\n",
    "ax.imshow(blocks[-5])"
   ]
  },
  {
   "cell_type": "code",
   "execution_count": null,
   "metadata": {},
   "outputs": [],
   "source": [
    "list(k)[0]"
   ]
  },
  {
   "cell_type": "code",
   "execution_count": null,
   "metadata": {},
   "outputs": [],
   "source": []
  },
  {
   "cell_type": "code",
   "execution_count": null,
   "metadata": {},
   "outputs": [],
   "source": []
  },
  {
   "cell_type": "code",
   "execution_count": null,
   "metadata": {},
   "outputs": [],
   "source": []
  },
  {
   "cell_type": "code",
   "execution_count": null,
   "metadata": {},
   "outputs": [],
   "source": []
  },
  {
   "cell_type": "code",
   "execution_count": null,
   "metadata": {},
   "outputs": [],
   "source": []
  },
  {
   "cell_type": "code",
   "execution_count": null,
   "metadata": {},
   "outputs": [],
   "source": []
  },
  {
   "cell_type": "code",
   "execution_count": null,
   "metadata": {},
   "outputs": [],
   "source": []
  },
  {
   "cell_type": "code",
   "execution_count": null,
   "metadata": {},
   "outputs": [],
   "source": []
  }
 ],
 "metadata": {
  "kernelspec": {
   "display_name": "Python 3",
   "language": "python",
   "name": "python3"
  },
  "language_info": {
   "codemirror_mode": {
    "name": "ipython",
    "version": 3
   },
   "file_extension": ".py",
   "mimetype": "text/x-python",
   "name": "python",
   "nbconvert_exporter": "python",
   "pygments_lexer": "ipython3",
   "version": "3.8.2"
  }
 },
 "nbformat": 4,
 "nbformat_minor": 4
}
