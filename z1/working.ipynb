{
 "cells": [
  {
   "cell_type": "code",
   "execution_count": 12,
   "metadata": {},
   "outputs": [],
   "source": [
    "import retro\n",
    "import torch\n",
    "import random\n",
    "import pyspark\n",
    "import numpy as np\n",
    "import IPython.display\n",
    "import matplotlib.pyplot as plt\n",
    "%config InlineBackend.figure_format = 'retina'\n",
    "\n",
    "import torch.nn.functional as F\n",
    "\n",
    "spark = pyspark.sql.SparkSession.builder.getOrCreate()\n",
    "sc = spark.sparkContext\n",
    "\n",
    "spark = (pyspark.sql.SparkSession\n",
    "         .builder\n",
    "         .master('local[8]')\n",
    "         .appName('lecture')\n",
    "         .getOrCreate())\n",
    "\n",
    "spark = (pyspark.sql.SparkSession\n",
    "         .builder\n",
    "         .master(\"local[*]\")\n",
    "         .config(\"spark.executor.memory\", \"70g\")\n",
    "         .config(\"spark.driver.memory\", \"50g\")\n",
    "         .config(\"spark.memory.offHeap.enabled\", True)\n",
    "         .config(\"spark.memory.offHeap.size\",\"16g\")   \n",
    "         .appName('lecture')\n",
    "         .getOrCreate())\n",
    "\n",
    "sc = spark.sparkContext"
   ]
  },
  {
   "cell_type": "markdown",
   "metadata": {},
   "source": [
    "mean  \n",
    "max_  \n",
    "difference  \n",
    "frequency  \n",
    "variance  \n",
    "reverse tree eg autoenc  "
   ]
  },
  {
   "cell_type": "code",
   "execution_count": 13,
   "metadata": {},
   "outputs": [
    {
     "data": {
      "text/plain": [
       "['Left', 'Right', 'Jump', 'None', 'LeftJump', 'RightJump']"
      ]
     },
     "execution_count": 13,
     "metadata": {},
     "output_type": "execute_result"
    }
   ],
   "source": [
    "actions_codes = {\n",
    "    'Left':      [0, 0, 0, 0, 0, 0, 1, 0, 0],\n",
    "    'Right':     [0, 0, 0, 0, 0, 0, 0, 1, 0],\n",
    "    'Jump':      [0, 0, 0, 0, 0, 0, 0, 0, 1],\n",
    "    'None':      [0, 0, 0, 0, 0, 0, 0, 0, 0],\n",
    "    # 'Crouch':    [0, 0, 0, 0, 0, 1, 0, 0, 0],\n",
    "    # 'Dash':      [0, 0, 1, 0, 0, 0, 0, 0, 0],\n",
    "    # 'RightDash': [0, 0, 1, 0, 0, 0, 0, 1, 0],\n",
    "    'LeftJump':  [0, 0, 0, 0, 0, 0, 1, 0, 1],\n",
    "    'RightJump': [0, 0, 0, 0, 0, 0, 0, 1, 1]\n",
    "}\n",
    "\n",
    "codes_actions = {tuple(code): action for action, code in actions_codes.items()}\n",
    "\n",
    "# actions = list(actions.values())\n",
    "actions = list(actions_codes.keys())\n",
    "actions"
   ]
  },
  {
   "cell_type": "markdown",
   "metadata": {},
   "source": [
    "---\n",
    "### enchiridion"
   ]
  },
  {
   "cell_type": "code",
   "execution_count": null,
   "metadata": {},
   "outputs": [],
   "source": []
  },
  {
   "cell_type": "code",
   "execution_count": null,
   "metadata": {},
   "outputs": [],
   "source": []
  },
  {
   "cell_type": "code",
   "execution_count": 14,
   "metadata": {},
   "outputs": [],
   "source": [
    "import uuid\n",
    "\n",
    "str(uuid.uuid4())\n",
    "\n",
    "class Environment2:\n",
    "    def __init__(self):\n",
    "        self.environment = retro.make(game='SuperMarioBros-Nes')\n",
    "        # self.environment = retro.make(game='Airstriker-Genesis')\n",
    "        \n",
    "        self.blocks_seen = []\n",
    "        self.blocks_seen_urls = []\n",
    "        \n",
    "        self.frames_all = []\n",
    "        self.actions_all = []\n",
    "\n",
    "        self.encodings = set()\n",
    "        self.encodings_frame = set()\n",
    "        \n",
    "        asymmetric = torch.linspace(0.5, 1.5, 16*16*3)**3\n",
    "        asymmetric = asymmetric.numpy()\n",
    "        \n",
    "        aa = torch.tensor(asymmetric).reshape(16, 16, 3).unsqueeze(0).permute(0, 3, 1, 2)\n",
    "        filter_ = torch.tensor(aa, dtype=torch.float)\n",
    "        self.filter_ = filter_ / 16 / 16 / 3 / 255\n",
    "\n",
    "        self.frame = self.environment.reset()\n",
    "        self.frames_all.append(self.frame)\n",
    "\n",
    "\n",
    "    def step(self, action, commitment_interval):\n",
    "        for _ in range(commitment_interval):\n",
    "            self.frame, reward, is_done, information = self.environment.step(action)\n",
    "        \n",
    "        # self.blocks_identify(self.frame)\n",
    "        self.frames_all.append(self.frame)\n",
    "        self.actions_all.append(action)\n",
    "\n",
    "        return self.frame, reward, is_done, information\n",
    "\n",
    "    def close(self):\n",
    "        self.environment.render(close=True)\n",
    "        self.environment.close()\n",
    "\n",
    "    __del__ = close\n",
    "\n",
    "    \n",
    "    def blocks_identify_all(self):\n",
    "        t = torch.tensor(np.stack(self.frames_all)).float()\n",
    "        images = t.permute(0, 3, 1, 2)\n",
    "        \n",
    "        # id_ = str(uuid.uuid4())\n",
    "        # np.savez_compressed(f'/tmp/{id}.npz', np.stack(self.frames_all).astype('uint8'))\n",
    "\n",
    "        output = F.conv2d(input=images,\n",
    "                          weight=self.filter_,\n",
    "                          stride=16)\n",
    "\n",
    "        output = output[:, :, 4:-1]\n",
    "        \n",
    "        return output[:-1], self.actions_all\n",
    "    \n",
    "    def frame_encode(self, frame):\n",
    "        t = torch.tensor(frame).unsqueeze(0).float()\n",
    "        images = t.permute(0, 3, 1, 2)\n",
    "\n",
    "        output = F.conv2d(input=images,\n",
    "                          weight=self.filter_,\n",
    "                          stride=16)\n",
    "\n",
    "        output = output[:, :, 4:-1]\n",
    "        \n",
    "        return output"
   ]
  },
  {
   "cell_type": "code",
   "execution_count": null,
   "metadata": {},
   "outputs": [],
   "source": []
  },
  {
   "cell_type": "code",
   "execution_count": 4,
   "metadata": {},
   "outputs": [
    {
     "ename": "NameError",
     "evalue": "name 'classifier' is not defined",
     "output_type": "error",
     "traceback": [
      "\u001b[0;31m---------------------------------------------------------------------------\u001b[0m",
      "\u001b[0;31mNameError\u001b[0m                                 Traceback (most recent call last)",
      "\u001b[0;32m<ipython-input-4-f0e754500231>\u001b[0m in \u001b[0;36m<module>\u001b[0;34m\u001b[0m\n\u001b[0;32m----> 1\u001b[0;31m \u001b[0mclassifier\u001b[0m\u001b[0;34m.\u001b[0m\u001b[0mpredict\u001b[0m\u001b[0;34m(\u001b[0m\u001b[0mencodings_all\u001b[0m\u001b[0;34m.\u001b[0m\u001b[0mreshape\u001b[0m\u001b[0;34m(\u001b[0m\u001b[0;34m-\u001b[0m\u001b[0;36m1\u001b[0m\u001b[0;34m,\u001b[0m \u001b[0;36m9\u001b[0m\u001b[0;34m*\u001b[0m\u001b[0;36m15\u001b[0m\u001b[0;34m)\u001b[0m\u001b[0;34m[\u001b[0m\u001b[0;34m:\u001b[0m\u001b[0;36m2\u001b[0m\u001b[0;34m]\u001b[0m\u001b[0;34m)\u001b[0m\u001b[0;34m\u001b[0m\u001b[0;34m\u001b[0m\u001b[0m\n\u001b[0m",
      "\u001b[0;31mNameError\u001b[0m: name 'classifier' is not defined"
     ]
    }
   ],
   "source": [
    "classifier.predict(encodings_all.reshape(-1, 9*15)[:2])"
   ]
  },
  {
   "cell_type": "code",
   "execution_count": null,
   "metadata": {},
   "outputs": [],
   "source": []
  },
  {
   "cell_type": "code",
   "execution_count": 15,
   "metadata": {},
   "outputs": [
    {
     "name": "stdout",
     "output_type": "stream",
     "text": [
      "795 141\n"
     ]
    },
    {
     "data": {
      "image/png": "[encoded data removed]",
      "text/plain": [
       "<Figure size 432x288 with 1 Axes>"
      ]
     },
     "metadata": {
      "image/png": {
       "height": 251,
       "width": 273
      },
      "needs_background": "light"
     },
     "output_type": "display_data"
    }
   ],
   "source": [
    "# %%time\n",
    "\n",
    "import numpy as np\n",
    "import random\n",
    "\n",
    "import warnings\n",
    "warnings.filterwarnings('ignore')\n",
    "\n",
    "def generate_play(step_count, agent, return_frames=False):\n",
    "    environment = Environment2()\n",
    "    \n",
    "    frame = environment.frame\n",
    "    for _ in range(step_count or 999999999):\n",
    "        if agent:\n",
    "            encoding = environment.frame_encode(frame).flatten().unsqueeze(0)\n",
    "            # encoding = encoding * torch.randn_like(encoding)*0.001\n",
    "            action = agent.predict(encoding)[0]\n",
    "        else:\n",
    "            action = actions[random.randint(0, len(actions)-1)]\n",
    "            action_code = actions_codes[action]\n",
    "        \n",
    "        frame, reward, is_done, information = environment.step(action_code, 6)\n",
    "\n",
    "        if information['lives'] == 1:\n",
    "            break\n",
    "        \n",
    "    environment.close()\n",
    "    \n",
    "    encodings, actions_all_codes = environment.blocks_identify_all()\n",
    "    actions_all = [codes_actions[tuple(action_code)] for action_code in actions_all_codes]\n",
    "    \n",
    "    result = {\n",
    "        'EncodingsUniqueCount': len(encodings.unique()),\n",
    "        'FramesCount': len(encodings),\n",
    "        'Encodings': encodings,\n",
    "        'Actions': actions_all,\n",
    "        'FrameLast': frame\n",
    "    }\n",
    "    \n",
    "    if return_frames:\n",
    "        return {**result, **{'Frames': environment.frames_all[:-1]}}\n",
    "    else:\n",
    "        return result\n",
    "\n",
    "result = generate_play(1600, None, return_frames=True)\n",
    "print(result['EncodingsUniqueCount'], result['FramesCount'])\n",
    "plt.imshow(result['Frames'][-3]);"
   ]
  },
  {
   "cell_type": "code",
   "execution_count": null,
   "metadata": {},
   "outputs": [],
   "source": [
    "from ipywidgets import interact, interactive, fixed, interact_manual\n",
    "import ipywidgets as widgets\n",
    "\n",
    "frames_all = np.array(result['Frames'])\n",
    "def f(x):\n",
    "    plt.imshow(frames_all[x])\n",
    "\n",
    "interact(f, x=widgets.IntSlider(min=0, max=len(frames_all)-1, step=1, value=0));"
   ]
  },
  {
   "cell_type": "code",
   "execution_count": null,
   "metadata": {},
   "outputs": [],
   "source": [
    "import sklearn.ensemble\n",
    "\n",
    "classifier = sklearn.ensemble.RandomForestClassifier(n_jobs=-1)\n",
    "\n",
    "classifier.fit(X=encodings_all,\n",
    "               y=actions_all)"
   ]
  },
  {
   "cell_type": "code",
   "execution_count": 27,
   "metadata": {},
   "outputs": [
    {
     "data": {
      "text/plain": [
       "RandomForestClassifier()"
      ]
     },
     "execution_count": 27,
     "metadata": {},
     "output_type": "execute_result"
    }
   ],
   "source": [
    "import sklearn.ensemble\n",
    "\n",
    "classifier = sklearn.ensemble.RandomForestClassifier()\n",
    "\n",
    "classifier.fit(X=result['Encodings'].reshape(-1, 9*15),\n",
    "               y=result['Actions'])"
   ]
  },
  {
   "cell_type": "code",
   "execution_count": 71,
   "metadata": {
    "collapsed": true
   },
   "outputs": [
    {
     "name": "stdout",
     "output_type": "stream",
     "text": [
      "total 508980\r\n",
      "drwxr-xr-x 2 root root      4096 Sep 12 04:43 \u001b[0m\u001b[01;34mblockmgr-35fddd40-119c-494f-a9b8-ba5146f779a2\u001b[0m/\r\n",
      "drwxr-xr-x 5 root root      4096 Sep 12 01:16 \u001b[01;34mblockmgr-7a737e73-7709-4c21-9000-65231f790268\u001b[0m/\r\n",
      "-rw-r--r-- 1 root root    864128 Sep 12 05:00 bobs.npy\r\n",
      "-rw-r--r-- 1 root root    864128 Sep 12 04:58 bobs.npz.npy\r\n",
      "drwxr-xr-x 1 root root      4096 Sep 12 04:43 \u001b[01;34mhsperfdata_root\u001b[0m/\r\n",
      "-rw-r--r-- 1 root root 258209408 Sep 12 05:03 imagez.npy\r\n",
      "-rw-r--r-- 1 root root 258209408 Sep 12 05:04 imagz.npy\r\n",
      "-rw-r--r-- 1 root root   2800800 Sep 12 05:10 imagz.npz\r\n",
      "-rw-r--r-- 1 root root    203408 Sep 12 01:07 liblz4-java-10946964196109673346.so\r\n",
      "-rw-r--r-- 1 root root         0 Sep 12 01:07 liblz4-java-10946964196109673346.so.lck\r\n",
      "drwxr-xr-x 2 root root      4096 Sep 12 01:04 \u001b[01;34mspark-1231a901-168d-4abf-bcfc-cbccd267346e\u001b[0m/\r\n",
      "drwx------ 4 root root      4096 Sep 12 04:43 \u001b[01;34mspark-70cbc470-a29d-4708-8f0e-d58aef938fcc\u001b[0m/\r\n",
      "drwx------ 4 root root      4096 Sep 12 01:04 \u001b[01;34mspark-9db47fb0-d7d8-4d13-a092-083b4bbb5e90\u001b[0m/\r\n",
      "drwxr-xr-x 2 root root      4096 Sep 12 04:43 \u001b[01;34mspark-a2e9ed76-50dc-4b07-a3ab-d5bff040a50a\u001b[0m/\r\n"
     ]
    }
   ],
   "source": [
    "classifier.predict(result['Encodings'].reshape(-1, 9*15)[:3])"
   ]
  },
  {
   "cell_type": "code",
   "execution_count": 87,
   "metadata": {},
   "outputs": [
    {
     "data": {
      "text/plain": [
       "(1601, 224, 240, 3)"
      ]
     },
     "execution_count": 87,
     "metadata": {},
     "output_type": "execute_result"
    }
   ],
   "source": [
    "import json\n",
    "\n",
    "np.load('/tmp/imagz.npz')['arr_0'].shape"
   ]
  },
  {
   "cell_type": "code",
   "execution_count": null,
   "metadata": {},
   "outputs": [],
   "source": []
  },
  {
   "cell_type": "code",
   "execution_count": 10,
   "metadata": {},
   "outputs": [
    {
     "name": "stdout",
     "output_type": "stream",
     "text": [
      "58480 /tmp/s1.npz\r\n"
     ]
    }
   ],
   "source": [
    "np.savez_compressed('/tmp/s1.npz', encodings_all)\n",
    "!wc -c /tmp/s1.npz"
   ]
  },
  {
   "cell_type": "code",
   "execution_count": 9,
   "metadata": {},
   "outputs": [
    {
     "ename": "SyntaxError",
     "evalue": "invalid syntax (<ipython-input-9-49b04872f75f>, line 1)",
     "output_type": "error",
     "traceback": [
      "\u001b[0;36m  File \u001b[0;32m\"<ipython-input-9-49b04872f75f>\"\u001b[0;36m, line \u001b[0;32m1\u001b[0m\n\u001b[0;31m    32x100  sparksort noblocksaccumulate innerfloat 5min21s\u001b[0m\n\u001b[0m      ^\u001b[0m\n\u001b[0;31mSyntaxError\u001b[0m\u001b[0;31m:\u001b[0m invalid syntax\n"
     ]
    }
   ],
   "source": [
    "32x100  sparksort noblocksaccumulate innerfloat 5min21s\n",
    "32x100  sparksort noblocksaccumulate broadcast  3min27s\n",
    "32x100  sparksort torch full convolve 18.5s\n",
    "32x1000 sparksort torch full convolve 1min47s\n",
    "32x800  sparksort torch full convolve 1min39s\n",
    "64x800  sparksort torch full convolve 3min41s\n",
    "128x800 sparksort torch full convolve 6min18s\n",
    "\n",
    "128x800 gt3400 2min00s\n",
    "256x800 top32 4min32s\n",
    "256x800 top32 3min57s\n",
    "256x800 top32 3min38s\n",
    "256x800 top32 3min36s\n",
    "256x800 self top32 4min5s\n",
    "256x800 self top32 3min59s\n",
    "256x800 self top32 3min58s\n",
    "\n",
    "256x800  c5 24xlarge top32 28s\n",
    "512x1000 c5 24xlarge top32 1min2s\n",
    "1024xNone c5 24xlarge stats 2min42s\n",
    "20_000xNone c5 24xlarge stats 45min33s\n",
    "\n",
    "128x800 c5 4xlarge local8    1min44s\n",
    "128x800 c5 4xlarge local16   1min52s\n",
    "1024x1000 c5 4xlarge local8 16min41s\n",
    "512x1000 c5 4xlarge local8   8min14s\n",
    "512x1000 c5 4xlarge local16  8min23s\n",
    "10240x1200 c54xlarge gt6200  1hr41s"
   ]
  },
  {
   "cell_type": "code",
   "execution_count": null,
   "metadata": {},
   "outputs": [],
   "source": []
  },
  {
   "cell_type": "code",
   "execution_count": null,
   "metadata": {},
   "outputs": [],
   "source": [
    "%%time\n",
    "\n",
    "import matplotlib.pyplot as plt\n",
    "\n",
    "environments = sc.parallelize(range(32)) .map (lambda x: generate_play(None, agent=None))\n",
    "# ls_frames = environments.sortByKey().collect()\n",
    "\n",
    "ls_frames_top = environments.collect()#.top(32, key=lambda x: x[0])\n",
    "# ls_frames_top = environments.filter(lambda x: x[0] > 5000)\n",
    "\n",
    "ls_frames = ls_frames_top#.collect()\n",
    "print(len(ls_frames))\n",
    "\n",
    "fig, axs = plt.subplots(8, 4, figsize=(18, 44))\n",
    "axs = axs.flatten()\n",
    "fig.tight_layout()\n",
    "\n",
    "for ax, result in zip(axs, ls_frames):\n",
    "    ax.imshow(result['FrameLast'])\n",
    "    ax.axis('off')\n",
    "    ax.set_title((result['EncodingsUniqueCount'], result['FramesCount']))"
   ]
  },
  {
   "cell_type": "code",
   "execution_count": null,
   "metadata": {},
   "outputs": [],
   "source": []
  },
  {
   "cell_type": "code",
   "execution_count": null,
   "metadata": {},
   "outputs": [],
   "source": [
    "%%time\n",
    "import matplotlib.pyplot as plt\n",
    "environments = sc.parallelize(range(20_000)) .map (lambda x: generate_play(step_count=None, agent=None))\n",
    "stats = environments .map (lambda result: (result['EncodingsUniqueCount'], result['FramesCount']))\n",
    "stats_02 = stats.collect()"
   ]
  },
  {
   "cell_type": "code",
   "execution_count": null,
   "metadata": {},
   "outputs": [],
   "source": [
    "environments = sc.parallelize(range(256)) .map (lambda x: generate_play(1600, agent=None))\n",
    "\n",
    "ls_frames_top = []\n",
    "for i in range(8):\n",
    "    print(i, end='.')\n",
    "    ls_frames_top.extend(environments.top(16, key=lambda x: x['EncodingsUniqueCount']))"
   ]
  },
  {
   "cell_type": "code",
   "execution_count": null,
   "metadata": {},
   "outputs": [],
   "source": [
    "import sklearn.ensemble\n",
    "\n",
    "classifier = sklearn.ensemble.RandomForestClassifier(n_jobs=-1)\n",
    "classifier.fit(X=encodings_all, y=actions_all)"
   ]
  },
  {
   "cell_type": "code",
   "execution_count": null,
   "metadata": {},
   "outputs": [],
   "source": [
    "result = generate_play(step_count=None, agent=classifier, return_frames=True)\n",
    "print(result['EncodingsUniqueCount'], result['FramesCount'])\n",
    "plt.imshow(result['Frames'][-3]);"
   ]
  },
  {
   "cell_type": "code",
   "execution_count": null,
   "metadata": {},
   "outputs": [],
   "source": [
    "from ipywidgets import interact, interactive, fixed, interact_manual\n",
    "import ipywidgets as widgets\n",
    "\n",
    "frames_all = np.array(result['Frames'])\n",
    "def f(x):\n",
    "    plt.imshow(frames_all[x])\n",
    "\n",
    "interact(f, x=widgets.IntSlider(min=0, max=len(frames_all)-1, step=1, value=0));"
   ]
  },
  {
   "cell_type": "code",
   "execution_count": null,
   "metadata": {},
   "outputs": [],
   "source": []
  },
  {
   "cell_type": "code",
   "execution_count": null,
   "metadata": {},
   "outputs": [],
   "source": [
    "# %%time\n",
    "\n",
    "import numpy as np\n",
    "import random\n",
    "\n",
    "import warnings\n",
    "warnings.filterwarnings('ignore')\n",
    "\n",
    "def generate_play(step_count, agent, play_actions=None, return_frames=False):\n",
    "    environment = Environment2()\n",
    "    \n",
    "    frame = environment.frame\n",
    "    \n",
    "    for action_1 in play_actions or range(step_count or 999999999):\n",
    "        if play_actions:\n",
    "            action = action_1\n",
    "            \n",
    "        elif agent:\n",
    "            encoding = environment.frame_encode(frame).flatten().unsqueeze(0)\n",
    "            # encoding = scaler.transform(encoding)\n",
    "            \n",
    "            # if random.random() < 0.95:\n",
    "            if random.random() < (1 - action_1/1600):\n",
    "                action = agent.predict(encoding)[0]\n",
    "            else:\n",
    "                ps = classifier.predict_proba(encoding)[0]\n",
    "                action = np.random.choice(agent.classes_, p=ps)\n",
    "            \n",
    "        else:\n",
    "            action = actions[random.randint(0, len(actions)-1)]\n",
    "            \n",
    "        # print(action)\n",
    "        \n",
    "        action_code = actions_codes[action]\n",
    "        frame, reward, is_done, information = environment.step(action_code, 6)\n",
    "\n",
    "        if information['lives'] == 1:\n",
    "            break\n",
    "        \n",
    "    environment.close()\n",
    "    \n",
    "    encodings, actions_all_codes = environment.blocks_identify_all()\n",
    "    actions_all = [codes_actions[tuple(action_code)] for action_code in actions_all_codes]\n",
    "    \n",
    "    result = {\n",
    "        'EncodingsUniqueCount': len(encodings.unique()),\n",
    "        'FramesCount': len(encodings),\n",
    "        'Encodings': encodings,\n",
    "        'Actions': actions_all,\n",
    "        'FrameLast': frame\n",
    "    }\n",
    "    \n",
    "    if return_frames:\n",
    "        return {**result, **{'Frames': environment.frames_all[:-1]}}\n",
    "    else:\n",
    "        return result\n",
    "\n",
    "result = generate_play(1600, None, return_frames=True)\n",
    "print(result['EncodingsUniqueCount'], result['FramesCount'])\n",
    "plt.imshow(result['Frames'][-3]);"
   ]
  }
 ],
 "metadata": {
  "kernelspec": {
   "display_name": "Python 3",
   "language": "python",
   "name": "python3"
  },
  "language_info": {
   "codemirror_mode": {
    "name": "ipython",
    "version": 3
   },
   "file_extension": ".py",
   "mimetype": "text/x-python",
   "name": "python",
   "nbconvert_exporter": "python",
   "pygments_lexer": "ipython3",
   "version": "3.8.2"
  }
 },
 "nbformat": 4,
 "nbformat_minor": 4
}
